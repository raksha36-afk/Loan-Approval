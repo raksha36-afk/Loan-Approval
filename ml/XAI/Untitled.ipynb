{
 "cells": [
  {
   "cell_type": "code",
   "execution_count": 1,
   "id": "3d18d18d",
   "metadata": {},
   "outputs": [
    {
     "name": "stderr",
     "output_type": "stream",
     "text": [
      "D:\\Users\\91944\\anaconda3\\Lib\\site-packages\\keras\\src\\layers\\core\\dense.py:87: UserWarning: Do not pass an `input_shape`/`input_dim` argument to a layer. When using Sequential models, prefer using an `Input(shape)` object as the first layer in the model instead.\n",
      "  super().__init__(activity_regularizer=activity_regularizer, **kwargs)\n",
      "WARNING:absl:Compiled the loaded model, but the compiled metrics have yet to be built. `model.compile_metrics` will be empty until you train or evaluate the model.\n",
      "WARNING:absl:Error in loading the saved optimizer state. As a result, your model is starting with a freshly initialized optimizer.\n"
     ]
    },
    {
     "ename": "ModuleNotFoundError",
     "evalue": "No module named 'shap'",
     "output_type": "error",
     "traceback": [
      "\u001b[1;31m---------------------------------------------------------------------------\u001b[0m",
      "\u001b[1;31mModuleNotFoundError\u001b[0m                       Traceback (most recent call last)",
      "Cell \u001b[1;32mIn[1], line 44\u001b[0m\n\u001b[0;32m     41\u001b[0m \u001b[38;5;66;03m# Load the model\u001b[39;00m\n\u001b[0;32m     42\u001b[0m model \u001b[38;5;241m=\u001b[39m load_model(\u001b[38;5;124m'\u001b[39m\u001b[38;5;124m../model/mlp_loan_approval_model.h5\u001b[39m\u001b[38;5;124m'\u001b[39m)\n\u001b[1;32m---> 44\u001b[0m \u001b[38;5;28;01mimport\u001b[39;00m \u001b[38;5;21;01mshap\u001b[39;00m\n\u001b[0;32m     46\u001b[0m \u001b[38;5;66;03m# Initialize the SHAP Deep Explainer\u001b[39;00m\n\u001b[0;32m     47\u001b[0m explainer_shap \u001b[38;5;241m=\u001b[39m shap\u001b[38;5;241m.\u001b[39mDeepExplainer(model, X_train[:\u001b[38;5;241m100\u001b[39m])\n",
      "\u001b[1;31mModuleNotFoundError\u001b[0m: No module named 'shap'"
     ]
    }
   ],
   "source": [
    "import pandas as pd\n",
    "import numpy as np\n",
    "from sklearn.model_selection import train_test_split\n",
    "from sklearn.preprocessing import StandardScaler, LabelEncoder\n",
    "from sklearn.metrics import confusion_matrix, classification_report\n",
    "import seaborn as sns\n",
    "import matplotlib.pyplot as plt\n",
    "from tensorflow.keras.models import Sequential\n",
    "from tensorflow.keras.layers import Dense, Dropout\n",
    "from tensorflow.keras.models import load_model\n",
    "\n",
    "# Load the data\n",
    "# Assuming your data is in a CSV file, replace 'your_dataset.csv' with your actual file name\n",
    "data = pd.read_csv('../model/loan_approval_dataset.csv')\n",
    "\n",
    "# Preprocessing\n",
    "# Drop the 'loan_id' column as it is not needed for training\n",
    "data.drop('loan_id', axis=1, inplace=True)\n",
    "\n",
    "# Encode categorical variables\n",
    "label_encoders = {}\n",
    "for column in [' education', ' self_employed']:\n",
    "    label_encoders[column] = LabelEncoder()\n",
    "    data[column] = label_encoders[column].fit_transform(data[column])\n",
    "\n",
    "# Encode the target variable\n",
    "data[' loan_status'] = LabelEncoder().fit_transform(data[' loan_status'])\n",
    "\n",
    "# Separate features and target variable\n",
    "X = data.drop(' loan_status', axis=1)\n",
    "y = data[' loan_status']\n",
    "\n",
    "# Split the data into training and testing sets\n",
    "X_train, X_test, y_train, y_test = train_test_split(X, y, test_size=0.2, random_state=42)\n",
    "\n",
    "# Normalize the features\n",
    "scaler = StandardScaler()\n",
    "X_train = scaler.fit_transform(X_train)\n",
    "X_test = scaler.transform(X_test)\n",
    "\n",
    "# Load the model\n",
    "model = load_model('../model/mlp_loan_approval_model.h5')\n",
    "\n",
    "import shap\n",
    "\n",
    "# Initialize the SHAP Deep Explainer\n",
    "explainer_shap = shap.DeepExplainer(model, X_train[:100])\n",
    "\n",
    "# Index corresponding to the test vector for local explanation\n",
    "i = 10\n",
    "\n",
    "# Compute SHAP values for the ith instance in X_test\n",
    "shap_values = explainer_shap.shap_values(X_test[i:i+1])\n",
    "print(shap_values)\n",
    "\n",
    "# Visualize local explanation\n",
    "shap.initjs()\n",
    "shap.force_plot(explainer_shap.expected_value, shap_values, X_test[i])\n",
    "\n",
    "# Summarize global explanations using SHAP summary plot\n",
    "shap_values_summary = explainer_shap.shap_values(X_test)\n",
    "print(shap_values_summary)\n",
    "shap.summary_plot(shap_values_summary, X_test)"
   ]
  },
  {
   "cell_type": "code",
   "execution_count": null,
   "id": "2cd256a4",
   "metadata": {},
   "outputs": [],
   "source": []
  }
 ],
 "metadata": {
  "kernelspec": {
   "display_name": "Python 3 (ipykernel)",
   "language": "python",
   "name": "python3"
  },
  "language_info": {
   "codemirror_mode": {
    "name": "ipython",
    "version": 3
   },
   "file_extension": ".py",
   "mimetype": "text/x-python",
   "name": "python",
   "nbconvert_exporter": "python",
   "pygments_lexer": "ipython3",
   "version": "3.11.3"
  }
 },
 "nbformat": 4,
 "nbformat_minor": 5
}
